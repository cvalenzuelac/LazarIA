{
 "cells": [
  {
   "cell_type": "code",
   "execution_count": 3,
   "metadata": {},
   "outputs": [
    {
     "name": "stderr",
     "output_type": "stream",
     "text": [
      "WARNING ⚠️ 'ultralytics.yolo.v8' is deprecated since '8.0.136' and will be removed in '8.1.0'. Please use 'ultralytics.models.yolo' instead.\n"
     ]
    }
   ],
   "source": [
    "from ultralytics import yolo\n",
    "import subprocess"
   ]
  },
  {
   "cell_type": "code",
   "execution_count": 6,
   "metadata": {},
   "outputs": [
    {
     "name": "stderr",
     "output_type": "stream",
     "text": [
      "Ultralytics YOLOv8.0.186 🚀 Python-3.8.10 torch-2.0.1+cu117 CPU (AMD Ryzen 5 4600H with Radeon Graphics)\n",
      "Model summary (fused): 168 layers, 3006038 parameters, 0 gradients\n",
      "\u001b[34m\u001b[1mval: \u001b[0mScanning /home/cristian/Desktop/LazarIA/Traffic-Light-2/valid/labels.cache... 14 images, 0 backgrounds, 0 corrupt: 100%|██████████| 14/14 [00:00<?, ?it/s]\n",
      "/home/cristian/.local/lib/python3.8/site-packages/torch/cuda/__init__.py:546: UserWarning: Can't initialize NVML\n",
      "  warnings.warn(\"Can't initialize NVML\")\n",
      "                 Class     Images  Instances      Box(P          R      mAP50  mAP50-95): 100%|██████████| 1/1 [00:01<00:00,  1.49s/it]\n",
      "                   all         14         15        0.4       0.85      0.448      0.212\n",
      "                 Green         14          1     0.0892          1      0.199      0.139\n",
      "                   Red         14         14       0.71      0.701      0.698      0.284\n",
      "Speed: 2.8ms preprocess, 94.1ms inference, 0.0ms loss, 2.3ms postprocess per image\n",
      "Results saved to \u001b[1mruns/detect/val\u001b[0m\n",
      "💡 Learn more at https://docs.ultralytics.com/modes/val\n"
     ]
    },
    {
     "data": {
      "text/plain": [
       "CompletedProcess(args='yolo task=detect mode=val model=/home/cristian/Desktop/LazarIA/runs/detect/train9/weights/best.pt data=/home/cristian/Desktop/LazarIA/Traffic-Light-2//data.yaml', returncode=0)"
      ]
     },
     "execution_count": 6,
     "metadata": {},
     "output_type": "execute_result"
    }
   ],
   "source": [
    "HOME = \"/home/cristian/Desktop/LazarIA\"\n",
    "dataset_location = \"/home/cristian/Desktop/LazarIA/Traffic-Light-2/\"\n",
    "\n",
    "# Comando de YOLOv8\n",
    "command = f\"yolo task=detect mode=val model={HOME}/runs/detect/train9/weights/best.pt data={dataset_location}/data.yaml\"\n",
    "\n",
    "# Ejecutar el comando en la línea de comandos\n",
    "subprocess.run(command, shell=True)"
   ]
  }
 ],
 "metadata": {
  "kernelspec": {
   "display_name": "Python 3",
   "language": "python",
   "name": "python3"
  },
  "language_info": {
   "codemirror_mode": {
    "name": "ipython",
    "version": 3
   },
   "file_extension": ".py",
   "mimetype": "text/x-python",
   "name": "python",
   "nbconvert_exporter": "python",
   "pygments_lexer": "ipython3",
   "version": "3.8.10"
  },
  "orig_nbformat": 4
 },
 "nbformat": 4,
 "nbformat_minor": 2
}
